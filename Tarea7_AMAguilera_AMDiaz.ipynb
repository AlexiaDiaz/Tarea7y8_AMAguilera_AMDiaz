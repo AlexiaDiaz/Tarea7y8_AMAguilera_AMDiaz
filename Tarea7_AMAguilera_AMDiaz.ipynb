{
 "cells": [
  {
   "cell_type": "markdown",
   "metadata": {},
   "source": [
    "<img style=\"float: left; margin: 30px 15px 15px 15px;\" src=\"https://pngimage.net/wp-content/uploads/2018/06/logo-iteso-png-5.png\" width=\"300\" height=\"500\" /> \n",
    "    \n",
    "    \n",
    "### <font color='navy'> Simulación de procesos financieros. \n",
    "\n",
    "**Nombres:** Ana María Aguilera Gómez y Alexia Marisol Díaz Verduzco.\n",
    "\n",
    "**Fecha:** 21 de octubre del 2021.\n",
    "\n",
    "**Expediente** : 720567 y .\n",
    "**Profesor:** Oscar David Jaramillo Zuluaga.\n",
    "    \n",
    "**Link Github**: https://github.com/anamaria1404/Tarea7y8_AMAguilera_AMDiaz\n",
    "\n",
    "# Tarea 7: Clase 13"
   ]
  },
  {
   "cell_type": "markdown",
   "metadata": {},
   "source": [
    "## Enunciado de tarea \n",
    "> Aproxime el valor de la siguiente integral usando el método monte carlo crudo y método de reducción de varianza de muestreo estratíficado\n",
    "\n",
    "$$I=\\int_{0}^{1}x^2\\text{d}x=\\left.\\frac{x^3}{3}\\right|_{x=0}^{x=1}=\\frac{1}{3}\\approx 0.33333$$\n"
   ]
  },
  {
   "cell_type": "code",
   "execution_count": 1,
   "metadata": {},
   "outputs": [],
   "source": [
    "import numpy as np\n",
    "from functools import reduce\n",
    "import time\n",
    "import matplotlib.pyplot as plt\n",
    "import scipy.stats as st     # Librería estadística\n",
    "import pandas as pd"
   ]
  },
  {
   "cell_type": "markdown",
   "metadata": {},
   "source": [
    "### Paso 1:\n",
    "1. Cree una función que realice el método de muestreo estratíficado, recibiendo como único parámetro de entrada la cantidad de estratos y retornando las variables estratíficadas correspondientes."
   ]
  },
  {
   "cell_type": "markdown",
   "metadata": {},
   "source": [
    "Código de solución estudiante 1"
   ]
  },
  {
   "cell_type": "code",
   "execution_count": null,
   "metadata": {},
   "outputs": [],
   "source": []
  },
  {
   "cell_type": "code",
   "execution_count": null,
   "metadata": {},
   "outputs": [],
   "source": []
  },
  {
   "cell_type": "code",
   "execution_count": null,
   "metadata": {},
   "outputs": [],
   "source": []
  },
  {
   "cell_type": "code",
   "execution_count": null,
   "metadata": {},
   "outputs": [],
   "source": []
  },
  {
   "cell_type": "markdown",
   "metadata": {},
   "source": [
    "Código de solución estudiante 2"
   ]
  },
  {
   "cell_type": "code",
   "execution_count": 2,
   "metadata": {},
   "outputs": [],
   "source": [
    "# MÉTODO MONTE CARLO CRUDO \n",
    "np.random.seed(555555)\n",
    "def int_montecarlo(f:'Función a integrar',\n",
    "                   a:'Límite inferior de la integral',\n",
    "                   b:'Límite superior de la integral',\n",
    "                   U:'Muestra de números U~[a,b]'):\n",
    "    return (b-a)/len(U)*np.sum(f(U))\n",
    "\n",
    "# Términos\n",
    "N = np.logspace(1,7,7,dtype=int)\n",
    "# Valor real\n",
    "I = 1/3 \n",
    "# Intervalo de integración\n",
    "a = 0\n",
    "b = 1\n",
    "\n",
    "# Números aleatorios dependiente de la cantidad de términos N\n",
    "ui = list(map(lambda N:np.random.uniform(a,b,N),N))\n",
    "\n",
    "# Aproximación por montecarlo\n",
    "I_m = list(map(lambda Y:int_montecarlo(lambda x:x**2,a,b,Y),ui))"
   ]
  },
  {
   "cell_type": "code",
   "execution_count": 3,
   "metadata": {},
   "outputs": [],
   "source": [
    "# MÉTODO DE REDUCCIÓN DE VARIANZA DE MUESTREO ESTRATÍFICADO\n",
    "np.random.seed(555555)\n",
    "def muestreo_estratificado(N):\n",
    "    '''\n",
    "    Esta es la programación para aproximar el valor de la integral \n",
    "    usando el método de reducción de varianza de muestreo estratíficado.\n",
    "    \n",
    "    Parámetros\n",
    "    -----------\n",
    "    N: \"cantidad de estratos\"\n",
    "    '''\n",
    "    U2 = list(map(lambda N:np.random.uniform(a,b,N),N)) # generación de variables aleatorias en un intervalo\n",
    "    BI= list(map(lambda N: np.arange(0,N),N)) \n",
    "    P= [(U2[i]-BI[i])/N[i] for i in range(len(N))] \n",
    "    \n",
    "    return list(map(lambda Y:int_montecarlo(lambda x:x**2,a,b,Y),P))\n",
    "M_e = muestreo_estratificado(N)"
   ]
  },
  {
   "cell_type": "markdown",
   "metadata": {},
   "source": [
    "### Respuesta planteada en el ejercicio usando (markdown)\n",
    " La respuesta es ........."
   ]
  },
  {
   "attachments": {
    "Image.PNG": {
     "image/png": "[encoded data removed]"
    }
   },
   "cell_type": "markdown",
   "metadata": {},
   "source": [
    "### Paso 2:\n",
    "2. Reporte los resultados de la aproximación de la integral usando montecarlo crudo y muestreo estratíficado, en un Dataframe con la información mostrada en la siguiente imagen:\n",
    "\n",
    "![Image.PNG](attachment:Image.PNG)"
   ]
  },
  {
   "cell_type": "markdown",
   "metadata": {},
   "source": [
    "Código de solución estudiante 1"
   ]
  },
  {
   "cell_type": "code",
   "execution_count": null,
   "metadata": {},
   "outputs": [],
   "source": []
  },
  {
   "cell_type": "code",
   "execution_count": null,
   "metadata": {},
   "outputs": [],
   "source": []
  },
  {
   "cell_type": "code",
   "execution_count": null,
   "metadata": {},
   "outputs": [],
   "source": []
  },
  {
   "cell_type": "code",
   "execution_count": null,
   "metadata": {},
   "outputs": [],
   "source": []
  },
  {
   "cell_type": "markdown",
   "metadata": {},
   "source": [
    "Código de solución estudiante 2"
   ]
  },
  {
   "cell_type": "code",
   "execution_count": 4,
   "metadata": {},
   "outputs": [
    {
     "data": {
      "text/html": [
       "<div>\n",
       "<style scoped>\n",
       "    .dataframe tbody tr th:only-of-type {\n",
       "        vertical-align: middle;\n",
       "    }\n",
       "\n",
       "    .dataframe tbody tr th {\n",
       "        vertical-align: top;\n",
       "    }\n",
       "\n",
       "    .dataframe thead th {\n",
       "        text-align: right;\n",
       "    }\n",
       "</style>\n",
       "<table border=\"1\" class=\"dataframe\">\n",
       "  <thead>\n",
       "    <tr style=\"text-align: right;\">\n",
       "      <th></th>\n",
       "      <th>Monte Carlo Crudo</th>\n",
       "      <th>Error relativo1%</th>\n",
       "      <th>Muestreo Estratificado</th>\n",
       "      <th>Error relativo2%</th>\n",
       "    </tr>\n",
       "    <tr>\n",
       "      <th>Cantidad_terminos</th>\n",
       "      <th></th>\n",
       "      <th></th>\n",
       "      <th></th>\n",
       "      <th></th>\n",
       "    </tr>\n",
       "  </thead>\n",
       "  <tbody>\n",
       "    <tr>\n",
       "      <th>10</th>\n",
       "      <td>0.449075</td>\n",
       "      <td>34.72259</td>\n",
       "      <td>0.236616</td>\n",
       "      <td>29.01506</td>\n",
       "    </tr>\n",
       "    <tr>\n",
       "      <th>100</th>\n",
       "      <td>0.358309</td>\n",
       "      <td>7.49280</td>\n",
       "      <td>0.322947</td>\n",
       "      <td>3.11594</td>\n",
       "    </tr>\n",
       "    <tr>\n",
       "      <th>1000</th>\n",
       "      <td>0.327402</td>\n",
       "      <td>1.77952</td>\n",
       "      <td>0.332336</td>\n",
       "      <td>0.29916</td>\n",
       "    </tr>\n",
       "    <tr>\n",
       "      <th>10000</th>\n",
       "      <td>0.333440</td>\n",
       "      <td>0.03199</td>\n",
       "      <td>0.333234</td>\n",
       "      <td>0.02991</td>\n",
       "    </tr>\n",
       "    <tr>\n",
       "      <th>100000</th>\n",
       "      <td>0.334143</td>\n",
       "      <td>0.24301</td>\n",
       "      <td>0.333323</td>\n",
       "      <td>0.00300</td>\n",
       "    </tr>\n",
       "    <tr>\n",
       "      <th>1000000</th>\n",
       "      <td>0.333427</td>\n",
       "      <td>0.02801</td>\n",
       "      <td>0.333332</td>\n",
       "      <td>0.00030</td>\n",
       "    </tr>\n",
       "    <tr>\n",
       "      <th>10000000</th>\n",
       "      <td>0.333491</td>\n",
       "      <td>0.04719</td>\n",
       "      <td>0.333333</td>\n",
       "      <td>0.00003</td>\n",
       "    </tr>\n",
       "  </tbody>\n",
       "</table>\n",
       "</div>"
      ],
      "text/plain": [
       "                   Monte Carlo Crudo  Error relativo1%  \\\n",
       "Cantidad_terminos                                        \n",
       "10                          0.449075          34.72259   \n",
       "100                         0.358309           7.49280   \n",
       "1000                        0.327402           1.77952   \n",
       "10000                       0.333440           0.03199   \n",
       "100000                      0.334143           0.24301   \n",
       "1000000                     0.333427           0.02801   \n",
       "10000000                    0.333491           0.04719   \n",
       "\n",
       "                   Muestreo Estratificado  Error relativo2%  \n",
       "Cantidad_terminos                                            \n",
       "10                               0.236616          29.01506  \n",
       "100                              0.322947           3.11594  \n",
       "1000                             0.332336           0.29916  \n",
       "10000                            0.333234           0.02991  \n",
       "100000                           0.333323           0.00300  \n",
       "1000000                          0.333332           0.00030  \n",
       "10000000                         0.333333           0.00003  "
      ]
     },
     "execution_count": 4,
     "metadata": {},
     "output_type": "execute_result"
    }
   ],
   "source": [
    "# Tabla \n",
    "df = pd.DataFrame(index=N,columns=['Monte Carlo Crudo', 'Error relativo1%','Muestreo Estratificado','Error relativo2%'], dtype='float')\n",
    "df.index.name = \"Cantidad_terminos\"\n",
    "df.loc[N,\"Monte Carlo Crudo\"] = I_m\n",
    "df.loc[N,\"Error relativo1%\"] = round(np.abs(df.loc[N,\"Monte Carlo Crudo\"]-I)*100/I,5)\n",
    "df.loc[N,\"Muestreo Estratificado\"] = M_e\n",
    "df.loc[N,\"Error relativo2%\"] = round(np.abs(df.loc[N,\"Muestreo Estratificado\"]-I)*100/I,5)\n",
    "df"
   ]
  },
  {
   "cell_type": "markdown",
   "metadata": {},
   "source": [
    "### Respuesta planteada en el ejercicio usando (markdown)\n",
    " La respuesta es ........."
   ]
  }
 ],
 "metadata": {
  "kernelspec": {
   "display_name": "Python 3",
   "language": "python",
   "name": "python3"
  },
  "language_info": {
   "codemirror_mode": {
    "name": "ipython",
    "version": 3
   },
   "file_extension": ".py",
   "mimetype": "text/x-python",
   "name": "python",
   "nbconvert_exporter": "python",
   "pygments_lexer": "ipython3",
   "version": "3.8.8"
  }
 },
 "nbformat": 4,
 "nbformat_minor": 2
}
